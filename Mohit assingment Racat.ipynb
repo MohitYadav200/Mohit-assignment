{
 "cells": [
  {
   "cell_type": "markdown",
   "id": "3de8690a",
   "metadata": {},
   "source": [
    "###  Q1"
   ]
  },
  {
   "cell_type": "code",
   "execution_count": 5,
   "id": "1fc00d94",
   "metadata": {},
   "outputs": [
    {
     "name": "stdout",
     "output_type": "stream",
     "text": [
      "[4, 16, 36, 64]\n"
     ]
    }
   ],
   "source": [
    "original_list=[1,2,3,4,5,6,7,8]\n",
    "new_list = [x**2 for x in original_list if x % 2 == 0]\n",
    "print(new_list)"
   ]
  },
  {
   "cell_type": "markdown",
   "id": "e5d62d3d",
   "metadata": {},
   "source": [
    "### Q 2"
   ]
  },
  {
   "cell_type": "code",
   "execution_count": 25,
   "id": "f20168df",
   "metadata": {},
   "outputs": [
    {
     "name": "stdout",
     "output_type": "stream",
     "text": [
      "Function 'example_function' executed in 7.0106 seconds\n"
     ]
    },
    {
     "data": {
      "text/plain": [
       "4999999950000000"
      ]
     },
     "execution_count": 25,
     "metadata": {},
     "output_type": "execute_result"
    }
   ],
   "source": [
    "import time\n",
    "import functools\n",
    "\n",
    "def log_execution_time(func):\n",
    "    @functools.wraps(func)\n",
    "    def wrapper(*args, **kwargs):\n",
    "        start_time = time.time()  \n",
    "        result = func(*args, **kwargs)  # Execute the functio\n",
    "        end_time = time.time()  # Record the end time\n",
    "        execution_time = end_time - start_time  # Calculate the execution time\n",
    "        print(f\"Function '{func.__name__}' executed in {execution_time:.4f} seconds\")\n",
    "        return result\n",
    "    \n",
    "    return wrapper\n",
    "\n",
    "@log_execution_time\n",
    "def example_function(n):\n",
    "    sum = 0\n",
    "    for i in range(n):\n",
    "        sum += i\n",
    "    return sum\n",
    "\n",
    "example_function(100000000)\n"
   ]
  },
  {
   "cell_type": "markdown",
   "id": "bdb0b9f5",
   "metadata": {},
   "source": [
    "### Q3"
   ]
  },
  {
   "cell_type": "code",
   "execution_count": 8,
   "id": "112de680",
   "metadata": {},
   "outputs": [
    {
     "name": "stdout",
     "output_type": "stream",
     "text": [
      "0\n",
      "1\n",
      "1\n",
      "2\n",
      "3\n",
      "5\n",
      "8\n"
     ]
    }
   ],
   "source": [
    "def fibonacci_generator(n):\n",
    "    a, b = 0, 1\n",
    "    while a <= n:\n",
    "        yield a\n",
    "        a, b = b, a + b\n",
    "\n",
    "n = 10\n",
    "for num in fibonacci_generator(n):\n",
    "    print(num)\n"
   ]
  },
  {
   "cell_type": "markdown",
   "id": "f8cbc41d",
   "metadata": {},
   "source": [
    "### Q4"
   ]
  },
  {
   "cell_type": "code",
   "execution_count": 13,
   "id": "aef73175",
   "metadata": {},
   "outputs": [
    {
     "name": "stdout",
     "output_type": "stream",
     "text": [
      "The file does not exist.\n"
     ]
    }
   ],
   "source": [
    "def read_file(file_path):\n",
    "    try:\n",
    "        with open(file_path, 'r') as file:\n",
    "            content = file.read()\n",
    "            return content\n",
    "    except FileNotFoundError:\n",
    "        print(\"The file does not exist.\")\n",
    "        return None\n",
    "\n",
    "# Example \n",
    "file_path = 'Mohit_yadav_text'\n",
    "content = read_file(file_path)\n",
    "if content is not None:\n",
    "    print(content)\n"
   ]
  },
  {
   "cell_type": "markdown",
   "id": "72d1d6cf",
   "metadata": {},
   "source": [
    "###  Q5"
   ]
  },
  {
   "cell_type": "code",
   "execution_count": 19,
   "id": "093076a9",
   "metadata": {},
   "outputs": [],
   "source": [
    "import numpy as np\n",
    "\n",
    "class SimpleLinearRegression:\n",
    "    def __init__(self):\n",
    "        self.slope = 0\n",
    "        self.intercept = 0\n",
    "\n",
    "    def fit(self, X, y):\n",
    "        X_mean = np.mean(X)\n",
    "        y_mean = np.mean(y)\n",
    "        \n",
    "        self.slope = np.sum((X - X_mean) * (y - y_mean)) / np.sum((X - X_mean) ** 2)\n",
    "        self.intercept = y_mean - self.slope * X_mean\n",
    "\n",
    "    def predict(self, X):\n",
    "        return self.slope * X + self.intercept\n",
    "\n",
    "\n"
   ]
  },
  {
   "cell_type": "code",
   "execution_count": 20,
   "id": "dd7aabf1",
   "metadata": {},
   "outputs": [
    {
     "name": "stdout",
     "output_type": "stream",
     "text": [
      "Predictions: [ 1.2  3.4  5.6  7.8 10. ]\n",
      "Slope (m): 2.2\n",
      "Intercept (b): -1.0000000000000009\n"
     ]
    }
   ],
   "source": [
    "X = np.array([1, 2, 3, 4, 5])\n",
    "y = np.array([2, 3, 5, 7, 11])\n",
    "    \n",
    "model = SimpleLinearRegression()\n",
    "model.fit(X, y)\n",
    "\n",
    "predictions = model.predict(X)\n",
    "print(\"Predictions:\", predictions)\n",
    "\n",
    "print(\"Slope (m):\", model.slope)\n",
    "print(\"Intercept (b):\", model.intercept)"
   ]
  },
  {
   "cell_type": "markdown",
   "id": "00aa5681",
   "metadata": {},
   "source": [
    "### Q6"
   ]
  },
  {
   "cell_type": "code",
   "execution_count": 21,
   "id": "18d2fe2f",
   "metadata": {},
   "outputs": [
    {
     "name": "stdout",
     "output_type": "stream",
     "text": [
      "Cost: 0.6931271807599427\n"
     ]
    }
   ],
   "source": [
    "import numpy as np\n",
    "\n",
    "def sigmoid(z):\n",
    "    return 1 / (1 + np.exp(-z))\n",
    "\n",
    "def compute_cost(theta, X, y):\n",
    "    m = len(y)\n",
    "    h = sigmoid(np.dot(X, theta))\n",
    "    \n",
    "    epsilon = 1e-5 \n",
    "    cost = -(1/m) * np.sum(y * np.log(h + epsilon) + (1 - y) * np.log(1 - h + epsilon))\n",
    "    \n",
    "    return cost\n",
    "\n",
    "# Example usage:\n",
    "if __name__ == \"__main__\":\n",
    "    X = np.array([[1, 2], [1, 3], [1, 4], [1, 5]])\n",
    "    y = np.array([0, 0, 1, 1])\n",
    "    theta = np.array([0, 0])\n",
    "    \n",
    "    cost = compute_cost(theta, X, y)\n",
    "    print(\"Cost:\", cost)\n"
   ]
  },
  {
   "cell_type": "markdown",
   "id": "b8a92046",
   "metadata": {},
   "source": [
    "### Q7"
   ]
  },
  {
   "cell_type": "code",
   "execution_count": 22,
   "id": "fbc9fc2a",
   "metadata": {},
   "outputs": [
    {
     "data": {
      "image/png": "[encoded data removed]",
      "text/plain": [
       "<Figure size 640x480 with 1 Axes>"
      ]
     },
     "metadata": {},
     "output_type": "display_data"
    }
   ],
   "source": [
    "import numpy as np\n",
    "import matplotlib.pyplot as plt\n",
    "from sklearn.datasets import make_blobs\n",
    "\n",
    "class KMeans:\n",
    "    def __init__(self, n_clusters=3, max_iter=100, tol=0.0001):\n",
    "        self.n_clusters = n_clusters\n",
    "        self.max_iter = max_iter\n",
    "        self.tol = tol\n",
    "\n",
    "    def fit(self, X):\n",
    "        # Randomly initialize centroids\n",
    "        np.random.seed(42)\n",
    "        self.centroids = X[np.random.choice(X.shape[0], self.n_clusters, replace=False)]\n",
    "        \n",
    "        for _ in range(self.max_iter):\n",
    "            # Assign each point to the nearest centroid\n",
    "            labels = self._assign_clusters(X)\n",
    "            \n",
    "            # Calculate new centroids\n",
    "            new_centroids = np.array([X[labels == i].mean(axis=0) for i in range(self.n_clusters)])\n",
    "            \n",
    "            # Check for convergence\n",
    "            if np.all(np.linalg.norm(self.centroids - new_centroids, axis=1) < self.tol):\n",
    "                break\n",
    "                \n",
    "            self.centroids = new_centroids\n",
    "\n",
    "    def _assign_clusters(self, X):\n",
    "        distances = np.linalg.norm(X[:, np.newaxis] - self.centroids, axis=2)\n",
    "        return np.argmin(distances, axis=1)\n",
    "\n",
    "    def predict(self, X):\n",
    "        return self._assign_clusters(X)\n",
    "\n",
    "# Generate sample data\n",
    "X, _ = make_blobs(n_samples=300, centers=3, random_state=42)\n",
    "\n",
    "kmeans = KMeans(n_clusters=3)\n",
    "kmeans.fit(X)\n",
    "\n",
    "labels = kmeans.predict(X)\n",
    "\n",
    "# Plot results\n",
    "plt.scatter(X[:, 0], X[:, 1], c=labels, cmap='viridis', marker='o')\n",
    "plt.scatter(kmeans.centroids[:, 0], kmeans.centroids[:, 1], s=300, c='red', marker='x')\n",
    "plt.title('K-Means Clustering')\n",
    "plt.show()\n"
   ]
  },
  {
   "cell_type": "markdown",
   "id": "f8ad9e28",
   "metadata": {},
   "source": [
    "### Q8"
   ]
  },
  {
   "cell_type": "code",
   "execution_count": 26,
   "id": "912c0cd7",
   "metadata": {},
   "outputs": [
    {
     "name": "stdout",
     "output_type": "stream",
     "text": [
      "Optimal parameters: [[4.21509609]\n",
      " [2.77011344]]\n"
     ]
    },
    {
     "data": {
      "image/png": "[encoded data removed]",
      "text/plain": [
       "<Figure size 640x480 with 1 Axes>"
      ]
     },
     "metadata": {},
     "output_type": "display_data"
    }
   ],
   "source": [
    "import numpy as np\n",
    "import matplotlib.pyplot as plt\n",
    "\n",
    "def generate_data(n_samples=100):\n",
    "    np.random.seed(42)\n",
    "    X = 2 * np.random.rand(n_samples, 1)\n",
    "    y = 4 + 3 * X + np.random.randn(n_samples, 1)\n",
    "    return X, y\n",
    "\n",
    "def hypothesis(X, theta):\n",
    "    return np.dot(X, theta)\n",
    "\n",
    "def compute_cost(X, y, theta):\n",
    "    m = len(y)\n",
    "    predictions = hypothesis(X, theta)\n",
    "    cost = (1/(2*m)) * np.sum((predictions - y)**2)\n",
    "    return cost\n",
    "\n",
    "def gradient_descent(X, y, theta, learning_rate=0.01, iterations=1000):\n",
    "    m = len(y)\n",
    "    cost_history = np.zeros(iterations)\n",
    "    \n",
    "    for i in range(iterations):\n",
    "        gradients = (1/m) * X.T.dot(hypothesis(X, theta) - y)\n",
    "        theta -= learning_rate * gradients\n",
    "        cost_history[i] = compute_cost(X, y, theta)\n",
    "        \n",
    "    return theta, cost_history\n",
    "\n",
    "# Generate data\n",
    "X, y = generate_data()\n",
    "\n",
    "# Add intercept term to X\n",
    "X_b = np.c_[np.ones((X.shape[0], 1)), X] \n",
    "\n",
    "# Initialize theta\n",
    "theta = np.random.randn(2, 1)\n",
    "\n",
    "learning_rate = 0.1\n",
    "iterations = 1000\n",
    "\n",
    "theta_optimal, cost_history = gradient_descent(X_b, y, theta, learning_rate, iterations)\n",
    "\n",
    "print(f\"Optimal parameters: {theta_optimal}\")\n",
    "\n",
    "\n",
    "plt.plot(range(iterations), cost_history)\n",
    "plt.xlabel(\"Number of iterations\")\n",
    "plt.ylabel(\"Cost\")\n",
    "plt.title(\"Cost Function Convergence\")\n",
    "plt.show()\n"
   ]
  },
  {
   "cell_type": "markdown",
   "id": "a89f42b7",
   "metadata": {},
   "source": [
    "### Q 9"
   ]
  },
  {
   "cell_type": "code",
   "execution_count": 27,
   "id": "c44712f0",
   "metadata": {},
   "outputs": [
    {
     "name": "stdout",
     "output_type": "stream",
     "text": [
      "Transformed Data (first 5 samples):\n",
      "[[-1.48584759  0.10517099]\n",
      " [-0.09087782  1.46554212]\n",
      " [-2.80234709  0.29750159]\n",
      " [-0.54966191  0.02257206]\n",
      " [ 0.84682029 -0.75997465]]\n",
      "Explained Variances:\n",
      "[1.46493849 1.17242457]\n"
     ]
    }
   ],
   "source": [
    "import numpy as np\n",
    "\n",
    "\n",
    "def standardize_data(X):\n",
    "    mean = np.mean(X, axis=0)\n",
    "    std = np.std(X, axis=0)\n",
    "    return (X - mean) / std\n",
    "\n",
    "\n",
    "def compute_covariance_matrix(X):\n",
    "    return np.cov(X.T)\n",
    "\n",
    "def compute_eigenvalues_and_eigenvectors(cov_matrix):\n",
    "    eigenvalues, eigenvectors = np.linalg.eig(cov_matrix)\n",
    "    return eigenvalues, eigenvectors\n",
    "\n",
    "\n",
    "def sort_eigenvalues_and_eigenvectors(eigenvalues, eigenvectors):\n",
    "    sorted_indices = np.argsort(eigenvalues)[::-1]\n",
    "    return eigenvalues[sorted_indices], eigenvectors[:, sorted_indices]\n",
    "\n",
    "\n",
    "def select_principal_components(eigenvectors, n_components):\n",
    "    return eigenvectors[:, :n_components]\n",
    "\n",
    "\n",
    "def transform_data(X, principal_components):\n",
    "    return np.dot(X, principal_components)\n",
    "\n",
    "\n",
    "def pca(X, n_components):\n",
    "    X_standardized = standardize_data(X)\n",
    "    covariance_matrix = compute_covariance_matrix(X_standardized)\n",
    "    eigenvalues, eigenvectors = compute_eigenvalues_and_eigenvectors(covariance_matrix)\n",
    "    sorted_eigenvalues, sorted_eigenvectors = sort_eigenvalues_and_eigenvectors(eigenvalues, eigenvectors)\n",
    "    principal_components = select_principal_components(sorted_eigenvectors, n_components)\n",
    "    X_pca = transform_data(X_standardized, principal_components)\n",
    "    return X_pca, sorted_eigenvalues\n",
    "\n",
    "\n",
    "if __name__ == \"__main__\":\n",
    "    \n",
    "    np.random.seed(42)\n",
    "    X = np.random.rand(100, 5)\n",
    "\n",
    "    \n",
    "    n_components = 2\n",
    "    X_pca, explained_variances = pca(X, n_components)\n",
    "\n",
    "    \n",
    "    print(\"Transformed Data (first 5 samples):\")\n",
    "    print(X_pca[:5])\n",
    "    print(\"Explained Variances:\")\n",
    "    print(explained_variances[:n_components])\n"
   ]
  },
  {
   "cell_type": "code",
   "execution_count": 28,
   "id": "41892668",
   "metadata": {},
   "outputs": [
    {
     "name": "stdout",
     "output_type": "stream",
     "text": [
      "Original DataFrame:\n",
      "    age   salary   department\n",
      "0  25.0  50000.0        sales\n",
      "1  30.0      NaN  engineering\n",
      "2  35.0  60000.0  engineering\n",
      "3   NaN  70000.0        sales\n",
      "4  40.0  80000.0          NaN\n",
      "\n",
      "DataFrame after handling missing values:\n",
      "    age   salary   department\n",
      "0  25.0  50000.0        sales\n",
      "1  30.0  65000.0  engineering\n",
      "2  35.0  60000.0  engineering\n",
      "3  32.5  70000.0        sales\n",
      "4  40.0  80000.0  engineering\n",
      "\n",
      "DataFrame after encoding categorical data:\n",
      "    age   salary   department  department_label  department_engineering  \\\n",
      "0  25.0  50000.0        sales                 1                     0.0   \n",
      "1  30.0  65000.0  engineering                 0                     1.0   \n",
      "2  35.0  60000.0  engineering                 0                     1.0   \n",
      "3  32.5  70000.0        sales                 1                     0.0   \n",
      "4  40.0  80000.0  engineering                 0                     1.0   \n",
      "\n",
      "   department_sales  \n",
      "0               1.0  \n",
      "1               0.0  \n",
      "2               0.0  \n",
      "3               1.0  \n",
      "4               0.0  \n"
     ]
    },
    {
     "name": "stderr",
     "output_type": "stream",
     "text": [
      "C:\\Users\\91871\\AppData\\Local\\Programs\\Python\\Python311\\Lib\\site-packages\\sklearn\\preprocessing\\_encoders.py:868: FutureWarning: `sparse` was renamed to `sparse_output` in version 1.2 and will be removed in 1.4. `sparse_output` is ignored unless you leave `sparse` to its default value.\n",
      "  warnings.warn(\n"
     ]
    }
   ],
   "source": [
    "import pandas as pd\n",
    "import numpy as np\n",
    "from sklearn.preprocessing import LabelEncoder, OneHotEncoder\n",
    "from sklearn.impute import SimpleImputer\n",
    "\n",
    "# Sample dataset\n",
    "data = {\n",
    "    'age': [25, 30, 35, np.nan, 40],\n",
    "    'salary': [50000, np.nan, 60000, 70000, 80000],\n",
    "    'department': ['sales', 'engineering', 'engineering', 'sales', np.nan]\n",
    "}\n",
    "\n",
    "df = pd.DataFrame(data)\n",
    "print(\"Original DataFrame:\")\n",
    "print(df)\n",
    "\n",
    "\n",
    "num_imputer = SimpleImputer(strategy='mean')\n",
    "df['age'] = num_imputer.fit_transform(df[['age']])\n",
    "df['salary'] = num_imputer.fit_transform(df[['salary']])\n",
    "\n",
    "\n",
    "cat_imputer = SimpleImputer(strategy='most_frequent')\n",
    "df['department'] = cat_imputer.fit_transform(df[['department']])\n",
    "\n",
    "print(\"\\nDataFrame after handling missing values:\")\n",
    "print(df)\n",
    "\n",
    "label_encoder = LabelEncoder()\n",
    "df['department_label'] = label_encoder.fit_transform(df['department'])\n",
    "\n",
    "\n",
    "one_hot_encoder = OneHotEncoder(sparse=False)\n",
    "department_one_hot = one_hot_encoder.fit_transform(df[['department']])\n",
    "department_one_hot_df = pd.DataFrame(department_one_hot, columns=one_hot_encoder.get_feature_names_out(['department']))\n",
    "\n",
    "\n",
    "df = pd.concat([df, department_one_hot_df], axis=1)\n",
    "\n",
    "print(\"\\nDataFrame after encoding categorical data:\")\n",
    "print(df)\n"
   ]
  },
  {
   "cell_type": "code",
   "execution_count": null,
   "id": "2a3b89ae",
   "metadata": {},
   "outputs": [],
   "source": []
  }
 ],
 "metadata": {
  "kernelspec": {
   "display_name": "Python 3 (ipykernel)",
   "language": "python",
   "name": "python3"
  },
  "language_info": {
   "codemirror_mode": {
    "name": "ipython",
    "version": 3
   },
   "file_extension": ".py",
   "mimetype": "text/x-python",
   "name": "python",
   "nbconvert_exporter": "python",
   "pygments_lexer": "ipython3",
   "version": "3.11.1"
  }
 },
 "nbformat": 4,
 "nbformat_minor": 5
}
